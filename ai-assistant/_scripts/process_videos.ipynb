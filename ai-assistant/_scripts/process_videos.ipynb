{
 "cells": [
  {
   "cell_type": "code",
   "execution_count": 1,
   "metadata": {},
   "outputs": [
    {
     "name": "stdout",
     "output_type": "stream",
     "text": [
      "Requirement already satisfied: pysrt in /usr/local/lib/python3.10/site-packages (1.1.2)\n",
      "Requirement already satisfied: chardet in /usr/local/lib/python3.10/site-packages (from pysrt) (5.2.0)\n",
      "\n",
      "\u001b[1m[\u001b[0m\u001b[34;49mnotice\u001b[0m\u001b[1;39;49m]\u001b[0m\u001b[39;49m A new release of pip is available: \u001b[0m\u001b[31;49m23.3.2\u001b[0m\u001b[39;49m -> \u001b[0m\u001b[32;49m24.0\u001b[0m\n",
      "\u001b[1m[\u001b[0m\u001b[34;49mnotice\u001b[0m\u001b[1;39;49m]\u001b[0m\u001b[39;49m To update, run: \u001b[0m\u001b[32;49mpython3.10 -m pip install --upgrade pip\u001b[0m\n"
     ]
    }
   ],
   "source": [
    "!pip install pysrt"
   ]
  },
  {
   "cell_type": "code",
   "execution_count": 26,
   "metadata": {},
   "outputs": [],
   "source": [
    "\n",
    "from langchain_astradb import AstraDBVectorStore\n",
    "from langchain_core.documents import Document\n",
    "from langchain_openai import OpenAIEmbeddings\n",
    "from dotenv import load_dotenv\n",
    "import os \n",
    "import pandas as pd "
   ]
  },
  {
   "cell_type": "code",
   "execution_count": 27,
   "metadata": {},
   "outputs": [
    {
     "data": {
      "text/plain": [
       "True"
      ]
     },
     "execution_count": 27,
     "metadata": {},
     "output_type": "execute_result"
    }
   ],
   "source": [
    "load_dotenv()"
   ]
  },
  {
   "cell_type": "code",
   "execution_count": 28,
   "metadata": {},
   "outputs": [
    {
     "name": "stdout",
     "output_type": "stream",
     "text": [
      "         Time                                               Text\n",
      "0        0:06  welcome to this Mega revision of microbiology ...\n",
      "1        0:14  definitely a very volatile one and must be giv...\n",
      "2        0:19  obviously in this less time you have to focus ...\n",
      "3        0:24  most high yielding topics which we are gonna c...\n",
      "4        0:30  session and I'm going to cover the images and ...\n",
      "...       ...                                                ...\n",
      "1423  2:30:11  and have confidence that whatever you're study...\n",
      "1424  2:30:17  with volatile topics like this you need to hav...\n",
      "1425  2:30:22  and I hope that this session has acted as a co...\n",
      "1426  2:30:29  listening so carefully and yes feedback is alw...\n",
      "1427  2:30:35  subscribe and press the Bell icon so you never...\n",
      "\n",
      "[1428 rows x 2 columns]\n"
     ]
    }
   ],
   "source": [
    "import pandas as pd\n",
    "\n",
    "# Read your files here \n",
    "files = ['NEET_video_subtitles.txt'] #  you can add file or bunch of files\n",
    "data = {}\n",
    "for f in files:\n",
    "  with open (f, \"r\") as myfile:\n",
    "    all_lines = myfile.read().splitlines() # split by line\n",
    "    # assign every alternative line to Time and Text index alternatively\n",
    "    data['Time'], data['Text'] = all_lines[::2],  all_lines[1::2]\n",
    "\n",
    "# create dataframe from the dictionary\n",
    "df = pd.DataFrame(data)\n",
    "print(df)    \n",
    "youtube_link = \"https://www.youtube.com/watch?v=dHXTb3_0DcQ&t\""
   ]
  },
  {
   "cell_type": "code",
   "execution_count": 24,
   "metadata": {},
   "outputs": [],
   "source": [
    "from datetime import datetime\n",
    "\n",
    "def split_by_timewindow(df, window_in_minutes):\n",
    "    docs = []\n",
    "    t = ''\n",
    "    split_time = datetime.time(hour=0,minute=window_in_minutes, second=0)\n",
    "    for index, row in df.iterrows():\n",
    "        print (row['Time'], row['Text'] )\n",
    "        newTime = datetime.strptime(row['Time'], '%H:%M:%S')\n",
    "        if newTime < split_time:            \n",
    "            t = t + ' ' + row['Text']\n",
    "        else:            \n",
    "            start_time =  (split_time.hour*3600) + (split_time.minute*60) + (split_time.second) - 60\n",
    "            docs.append(Document(page_content=t,metadata={\"link\":f\"{youtube_link}&t={start_time}s\", \"start_time\":start_time}))\n",
    "            t = row['Text']            \n",
    "            split_time = (datetime.datetime(1, 1, 1,split_time.hour,split_time.minute, split_time.second) +  datetime.timedelta(minutes=window_in_minutes)).time()                \n",
    "    print (docs)\n",
    "    return docs"
   ]
  },
  {
   "cell_type": "code",
   "execution_count": 25,
   "metadata": {},
   "outputs": [
    {
     "ename": "TypeError",
     "evalue": "unbound method datetime.time() needs an argument",
     "output_type": "error",
     "traceback": [
      "\u001b[0;31m---------------------------------------------------------------------------\u001b[0m",
      "\u001b[0;31mTypeError\u001b[0m                                 Traceback (most recent call last)",
      "Cell \u001b[0;32mIn[25], line 1\u001b[0m\n\u001b[0;32m----> 1\u001b[0m t\u001b[38;5;241m=\u001b[39m\u001b[43msplit_by_timewindow\u001b[49m\u001b[43m(\u001b[49m\u001b[43mdf\u001b[49m\u001b[43m,\u001b[49m\u001b[43m \u001b[49m\u001b[38;5;241;43m1\u001b[39;49m\u001b[43m)\u001b[49m\n",
      "Cell \u001b[0;32mIn[24], line 6\u001b[0m, in \u001b[0;36msplit_by_timewindow\u001b[0;34m(df, window_in_minutes)\u001b[0m\n\u001b[1;32m      4\u001b[0m docs \u001b[38;5;241m=\u001b[39m []\n\u001b[1;32m      5\u001b[0m t \u001b[38;5;241m=\u001b[39m \u001b[38;5;124m'\u001b[39m\u001b[38;5;124m'\u001b[39m\n\u001b[0;32m----> 6\u001b[0m split_time \u001b[38;5;241m=\u001b[39m \u001b[43mdatetime\u001b[49m\u001b[38;5;241;43m.\u001b[39;49m\u001b[43mtime\u001b[49m\u001b[43m(\u001b[49m\u001b[43mhour\u001b[49m\u001b[38;5;241;43m=\u001b[39;49m\u001b[38;5;241;43m0\u001b[39;49m\u001b[43m,\u001b[49m\u001b[43mminute\u001b[49m\u001b[38;5;241;43m=\u001b[39;49m\u001b[43mwindow_in_minutes\u001b[49m\u001b[43m,\u001b[49m\u001b[43m \u001b[49m\u001b[43msecond\u001b[49m\u001b[38;5;241;43m=\u001b[39;49m\u001b[38;5;241;43m0\u001b[39;49m\u001b[43m)\u001b[49m\n\u001b[1;32m      7\u001b[0m \u001b[38;5;28;01mfor\u001b[39;00m index, row \u001b[38;5;129;01min\u001b[39;00m df\u001b[38;5;241m.\u001b[39miterrows():\n\u001b[1;32m      8\u001b[0m     \u001b[38;5;28mprint\u001b[39m (row[\u001b[38;5;124m'\u001b[39m\u001b[38;5;124mTime\u001b[39m\u001b[38;5;124m'\u001b[39m], row[\u001b[38;5;124m'\u001b[39m\u001b[38;5;124mText\u001b[39m\u001b[38;5;124m'\u001b[39m] )\n",
      "\u001b[0;31mTypeError\u001b[0m: unbound method datetime.time() needs an argument"
     ]
    }
   ],
   "source": [
    "t=split_by_timewindow(df, 1)"
   ]
  },
  {
   "cell_type": "code",
   "execution_count": null,
   "metadata": {},
   "outputs": [],
   "source": []
  },
  {
   "cell_type": "code",
   "execution_count": null,
   "metadata": {},
   "outputs": [],
   "source": [
    "\n",
    "embedding = OpenAIEmbeddings()\n",
    "vstore = AstraDBVectorStore(\n",
    "    embedding=embedding,\n",
    "    collection_name=\"test\",\n",
    "    token=os.environ[\"ASTRA_DB_APPLICATION_TOKEN\"],\n",
    "    api_endpoint=os.environ[\"ASTRA_DB_API_ENDPOINT\"],\n",
    ")"
   ]
  },
  {
   "cell_type": "code",
   "execution_count": null,
   "metadata": {},
   "outputs": [],
   "source": [
    "vstore.add_documents(t)"
   ]
  }
 ],
 "metadata": {
  "kernelspec": {
   "display_name": "Python 3",
   "language": "python",
   "name": "python3"
  },
  "language_info": {
   "codemirror_mode": {
    "name": "ipython",
    "version": 3
   },
   "file_extension": ".py",
   "mimetype": "text/x-python",
   "name": "python",
   "nbconvert_exporter": "python",
   "pygments_lexer": "ipython3",
   "version": "3.11.6"
  }
 },
 "nbformat": 4,
 "nbformat_minor": 2
}
